{
 "cells": [
  {
   "cell_type": "markdown",
   "metadata": {},
   "source": [
    "# Домашнее задание 6: классификация текстов"
   ]
  },
  {
   "cell_type": "markdown",
   "metadata": {},
   "source": [
    "В этом домашнем задании вам предстоит построить классификатор текстов!\n",
    "\n",
    "Данные мы будем использовать из Kaggle соревнования: https://www.kaggle.com/competitions/nlp-getting-started/data Оттуда надо скачать файл train.csv. На обучающую и тестовую выборки его поделим кодом ниже, менять его не надо!"
   ]
  },
  {
   "cell_type": "markdown",
   "metadata": {},
   "source": [
    "Мы будем работать с датасетом постов из твиттера. Нам предстоит решать задачу бинарной классификации - определять содержатся ли в твите информация о настоящей катастрофе/инциденте или нет."
   ]
  },
  {
   "cell_type": "code",
   "execution_count": 1,
   "metadata": {},
   "outputs": [],
   "source": [
    "import pandas as pd"
   ]
  },
  {
   "cell_type": "code",
   "execution_count": 2,
   "metadata": {},
   "outputs": [],
   "source": [
    "data = pd.read_csv('train.csv')"
   ]
  },
  {
   "cell_type": "code",
   "execution_count": 3,
   "metadata": {},
   "outputs": [
    {
     "data": {
      "text/html": [
       "<div>\n",
       "<style scoped>\n",
       "    .dataframe tbody tr th:only-of-type {\n",
       "        vertical-align: middle;\n",
       "    }\n",
       "\n",
       "    .dataframe tbody tr th {\n",
       "        vertical-align: top;\n",
       "    }\n",
       "\n",
       "    .dataframe thead th {\n",
       "        text-align: right;\n",
       "    }\n",
       "</style>\n",
       "<table border=\"1\" class=\"dataframe\">\n",
       "  <thead>\n",
       "    <tr style=\"text-align: right;\">\n",
       "      <th></th>\n",
       "      <th>id</th>\n",
       "      <th>keyword</th>\n",
       "      <th>location</th>\n",
       "      <th>text</th>\n",
       "      <th>target</th>\n",
       "    </tr>\n",
       "  </thead>\n",
       "  <tbody>\n",
       "    <tr>\n",
       "      <th>0</th>\n",
       "      <td>1</td>\n",
       "      <td>NaN</td>\n",
       "      <td>NaN</td>\n",
       "      <td>Our Deeds are the Reason of this #earthquake M...</td>\n",
       "      <td>1</td>\n",
       "    </tr>\n",
       "    <tr>\n",
       "      <th>1</th>\n",
       "      <td>4</td>\n",
       "      <td>NaN</td>\n",
       "      <td>NaN</td>\n",
       "      <td>Forest fire near La Ronge Sask. Canada</td>\n",
       "      <td>1</td>\n",
       "    </tr>\n",
       "    <tr>\n",
       "      <th>2</th>\n",
       "      <td>5</td>\n",
       "      <td>NaN</td>\n",
       "      <td>NaN</td>\n",
       "      <td>All residents asked to 'shelter in place' are ...</td>\n",
       "      <td>1</td>\n",
       "    </tr>\n",
       "    <tr>\n",
       "      <th>3</th>\n",
       "      <td>6</td>\n",
       "      <td>NaN</td>\n",
       "      <td>NaN</td>\n",
       "      <td>13,000 people receive #wildfires evacuation or...</td>\n",
       "      <td>1</td>\n",
       "    </tr>\n",
       "    <tr>\n",
       "      <th>4</th>\n",
       "      <td>7</td>\n",
       "      <td>NaN</td>\n",
       "      <td>NaN</td>\n",
       "      <td>Just got sent this photo from Ruby #Alaska as ...</td>\n",
       "      <td>1</td>\n",
       "    </tr>\n",
       "  </tbody>\n",
       "</table>\n",
       "</div>"
      ],
      "text/plain": [
       "   id keyword location                                               text  \\\n",
       "0   1     NaN      NaN  Our Deeds are the Reason of this #earthquake M...   \n",
       "1   4     NaN      NaN             Forest fire near La Ronge Sask. Canada   \n",
       "2   5     NaN      NaN  All residents asked to 'shelter in place' are ...   \n",
       "3   6     NaN      NaN  13,000 people receive #wildfires evacuation or...   \n",
       "4   7     NaN      NaN  Just got sent this photo from Ruby #Alaska as ...   \n",
       "\n",
       "   target  \n",
       "0       1  \n",
       "1       1  \n",
       "2       1  \n",
       "3       1  \n",
       "4       1  "
      ]
     },
     "execution_count": 3,
     "metadata": {},
     "output_type": "execute_result"
    }
   ],
   "source": [
    "data.head()"
   ]
  },
  {
   "cell_type": "code",
   "execution_count": 4,
   "metadata": {},
   "outputs": [],
   "source": [
    "from sklearn.model_selection import train_test_split\n",
    "\n",
    "train, test = train_test_split(data, test_size=0.3, random_state=42)"
   ]
  },
  {
   "cell_type": "markdown",
   "metadata": {},
   "source": [
    "## Задание 1 (0.5 балла)\n",
    "\n",
    "Выведете на экран информацию о пропусках в данных. Если пропуски присутствуют, заполните их пустой строкой."
   ]
  },
  {
   "cell_type": "code",
   "execution_count": 5,
   "metadata": {},
   "outputs": [
    {
     "data": {
      "text/plain": [
       "id          False\n",
       "keyword      True\n",
       "location     True\n",
       "text        False\n",
       "target      False\n",
       "dtype: bool"
      ]
     },
     "execution_count": 5,
     "metadata": {},
     "output_type": "execute_result"
    }
   ],
   "source": [
    "train.isnull().any()"
   ]
  },
  {
   "cell_type": "code",
   "execution_count": 6,
   "metadata": {},
   "outputs": [],
   "source": [
    "train.fillna('', axis=1, inplace=True)\n",
    "test.fillna('', axis=1, inplace=True)"
   ]
  },
  {
   "cell_type": "code",
   "execution_count": 7,
   "metadata": {},
   "outputs": [
    {
     "data": {
      "text/plain": [
       "id          0\n",
       "keyword     0\n",
       "location    0\n",
       "text        0\n",
       "target      0\n",
       "dtype: int64"
      ]
     },
     "execution_count": 7,
     "metadata": {},
     "output_type": "execute_result"
    }
   ],
   "source": [
    "train.isnull().sum()"
   ]
  },
  {
   "cell_type": "markdown",
   "metadata": {},
   "source": [
    "## Задание 2 (1 балл)\n",
    "Давайте немного посмотрим на наши данные. Визуализируйте (где явно просят) или выведете информацию о следующем:\n",
    "\n",
    "1. Какое распределение классов в обучающей выборке?\n",
    "2. Посмотрите на колонку \"keyword\" - возьмите 10 наиболее встречающихся значений, постройте ступенчатую диаграмму распределения классов в зависимости от значения keyword, сделайте выводы."
   ]
  },
  {
   "cell_type": "code",
   "execution_count": 8,
   "metadata": {},
   "outputs": [],
   "source": [
    "import matplotlib.pyplot as plt\n",
    "import seaborn as sns"
   ]
  },
  {
   "cell_type": "code",
   "execution_count": 9,
   "metadata": {
    "scrolled": true
   },
   "outputs": [
    {
     "data": {
      "image/png": "[encoded data removed]",
      "text/plain": [
       "<Figure size 432x288 with 1 Axes>"
      ]
     },
     "metadata": {
      "needs_background": "light"
     },
     "output_type": "display_data"
    }
   ],
   "source": [
    "plt.bar(data=train, x=train['target'].value_counts().index, height=train['target'].value_counts().values)\n",
    "plt.xticks(range(0,2))\n",
    "plt.title('Соотношение классов таргета')\n",
    "plt.show()"
   ]
  },
  {
   "cell_type": "code",
   "execution_count": 10,
   "metadata": {},
   "outputs": [
    {
     "data": {
      "image/png": "[encoded data removed]",
      "text/plain": [
       "<Figure size 720x432 with 1 Axes>"
      ]
     },
     "metadata": {
      "needs_background": "light"
     },
     "output_type": "display_data"
    }
   ],
   "source": [
    "top10 = train.loc[train['keyword'].isin(tuple(train['keyword'].value_counts()[:10].index))]\n",
    "plt.subplots(figsize=(10, 6))\n",
    "sns.histplot(top10, x='keyword', hue=\"target\", multiple=\"dodge\", shrink=.5)\n",
    "plt.title('Распределение значений таргета в зависимости от значения ключевого слова')\n",
    "plt.show()"
   ]
  },
  {
   "cell_type": "markdown",
   "metadata": {},
   "source": [
    "## Задание 3 (0.5 балла) \n",
    "\n",
    "В этом задании предлагается объединить все три текстовых столбца в один (просто сконкатенировать cтроки) и убрать столбец с индексом."
   ]
  },
  {
   "cell_type": "code",
   "execution_count": 11,
   "metadata": {
    "scrolled": true
   },
   "outputs": [
    {
     "data": {
      "text/html": [
       "<div>\n",
       "<style scoped>\n",
       "    .dataframe tbody tr th:only-of-type {\n",
       "        vertical-align: middle;\n",
       "    }\n",
       "\n",
       "    .dataframe tbody tr th {\n",
       "        vertical-align: top;\n",
       "    }\n",
       "\n",
       "    .dataframe thead th {\n",
       "        text-align: right;\n",
       "    }\n",
       "</style>\n",
       "<table border=\"1\" class=\"dataframe\">\n",
       "  <thead>\n",
       "    <tr style=\"text-align: right;\">\n",
       "      <th></th>\n",
       "      <th>target</th>\n",
       "      <th>all_text</th>\n",
       "    </tr>\n",
       "  </thead>\n",
       "  <tbody>\n",
       "    <tr>\n",
       "      <th>0</th>\n",
       "      <td>1</td>\n",
       "      <td>nannanOur Deeds are the Reason of this #earthq...</td>\n",
       "    </tr>\n",
       "    <tr>\n",
       "      <th>1</th>\n",
       "      <td>1</td>\n",
       "      <td>nannanForest fire near La Ronge Sask. Canada</td>\n",
       "    </tr>\n",
       "    <tr>\n",
       "      <th>2</th>\n",
       "      <td>1</td>\n",
       "      <td>nannanAll residents asked to 'shelter in place...</td>\n",
       "    </tr>\n",
       "    <tr>\n",
       "      <th>3</th>\n",
       "      <td>1</td>\n",
       "      <td>nannan13,000 people receive #wildfires evacuat...</td>\n",
       "    </tr>\n",
       "    <tr>\n",
       "      <th>4</th>\n",
       "      <td>1</td>\n",
       "      <td>nannanJust got sent this photo from Ruby #Alas...</td>\n",
       "    </tr>\n",
       "  </tbody>\n",
       "</table>\n",
       "</div>"
      ],
      "text/plain": [
       "   target                                           all_text\n",
       "0       1  nannanOur Deeds are the Reason of this #earthq...\n",
       "1       1       nannanForest fire near La Ronge Sask. Canada\n",
       "2       1  nannanAll residents asked to 'shelter in place...\n",
       "3       1  nannan13,000 people receive #wildfires evacuat...\n",
       "4       1  nannanJust got sent this photo from Ruby #Alas..."
      ]
     },
     "execution_count": 11,
     "metadata": {},
     "output_type": "execute_result"
    }
   ],
   "source": [
    "data.reset_index(inplace=True, drop=True)\n",
    "data['all_text'] = data.loc[:, 'keyword':'text'].apply(lambda row: ''.join(map(str, row)), axis=1)\n",
    "data.drop(columns=['id', 'keyword', 'location', 'text'], inplace=True)\n",
    "\n",
    "train, test = train_test_split(data, test_size=0.3, random_state=42)\n",
    "\n",
    "data.head()"
   ]
  },
  {
   "cell_type": "markdown",
   "metadata": {},
   "source": [
    "## Задание 4 (0.5 балла)\n",
    "\n",
    "Далее мы будем пока работать только с train частью.\n",
    "\n",
    "1. Предобработайте данные (train часть) с помощью CountVectorizer.\n",
    "2. Какого размера получилась матрица?\n"
   ]
  },
  {
   "cell_type": "code",
   "execution_count": 40,
   "metadata": {},
   "outputs": [
    {
     "data": {
      "text/plain": [
       "(5329, 22944)"
      ]
     },
     "execution_count": 40,
     "metadata": {},
     "output_type": "execute_result"
    }
   ],
   "source": [
    "from sklearn.feature_extraction.text import CountVectorizer\n",
    "cnt_vec = CountVectorizer()\n",
    "X = cnt_vec.fit_transform(train['all_text'])\n",
    "X.shape"
   ]
  },
  {
   "cell_type": "code",
   "execution_count": 13,
   "metadata": {},
   "outputs": [
    {
     "data": {
      "text/plain": [
       "array(['00', '000', '0000', ..., 'ûóher', 'ûókody', 'ûótech'],\n",
       "      dtype=object)"
      ]
     },
     "execution_count": 13,
     "metadata": {},
     "output_type": "execute_result"
    }
   ],
   "source": [
    "cnt_vec.get_feature_names_out()"
   ]
  },
  {
   "cell_type": "markdown",
   "metadata": {},
   "source": [
    "## Задание 5 (1 балл)\n",
    "\n",
    "В предыдущем пункте у вас должна была получиться достаточно большая матрица.\n",
    "Если вы взгляните на текст, то увидете, что там есть множество специальных символов, ссылок и прочего мусора.\n",
    "\n",
    "Давайте также посмотрим на словарь, который получился в результате построения CountVectorizer, его можно найти в поле vocabulary_ инстанса этого класса. Давайте напишем функцию, которая печатает ответы на следующие вопросы:\n",
    "\n",
    "1. Найдите в этом словаре все слова, которые содержат цифры. Сколько таких слов нашлось?\n",
    "\n",
    "2. Найдите все слова, которые содержат символы пунктуации. Сколько таких слов нашлось? \n",
    "\n",
    "3. Сколько хэштегов (токен начинается на #) и упоминаний (токен начинается на @) осталось в словаре?"
   ]
  },
  {
   "cell_type": "code",
   "execution_count": 14,
   "metadata": {},
   "outputs": [],
   "source": [
    "import re"
   ]
  },
  {
   "cell_type": "code",
   "execution_count": 41,
   "metadata": {
    "scrolled": true
   },
   "outputs": [
    {
     "name": "stdout",
     "output_type": "stream",
     "text": [
      "Слов, содержащих цифры: 4605\n",
      "Слов, содержащих знаки пунктуации: 0\n",
      "Хэштегов и упоминаний: 0\n"
     ]
    }
   ],
   "source": [
    "result = map(lambda word: re.findall('\\d+', word), cnt_vec.vocabulary_.keys())\n",
    "print('Слов, содержащих цифры:', len(tuple(filter(lambda lst: len(lst), result))))\n",
    "result = map(lambda word: re.findall('[^\\w\\d]', word), cnt_vec.vocabulary_.keys())\n",
    "print('Слов, содержащих знаки пунктуации:', len(tuple(filter(lambda lst: len(lst), result))))\n",
    "result = map(lambda word: re.findall('^[#@]', word), cnt_vec.vocabulary_.keys())\n",
    "print('Хэштегов и упоминаний:', len(tuple(filter(lambda lst: len(lst), result))))"
   ]
  },
  {
   "cell_type": "markdown",
   "metadata": {},
   "source": [
    "## Задание 6 (0.5 балла)\n",
    "\n",
    "Вспомним, что на семинаре по текстам мы узнали, что в nltk есть специальный токенизатор для текстов - TweetTokenizer. Попробуем применить CountVectorizer с этим токенизатором. Ответьте на все вопросы из предыдущего пункта для TweetTokenizer и сравните результаты."
   ]
  },
  {
   "cell_type": "code",
   "execution_count": 16,
   "metadata": {},
   "outputs": [],
   "source": [
    "from nltk.tokenize import TweetTokenizer\n",
    "# Чтобы узнать, какие параметры есть у этого токенайзера - используйте help(TweetTokenizer)\n",
    "# Для того, чтобы передать токенайзер в CountVectorizer используйте параметр tokenizer"
   ]
  },
  {
   "cell_type": "code",
   "execution_count": 42,
   "metadata": {
    "scrolled": true
   },
   "outputs": [
    {
     "data": {
      "text/plain": [
       "(5329, 24089)"
      ]
     },
     "execution_count": 42,
     "metadata": {},
     "output_type": "execute_result"
    }
   ],
   "source": [
    "cnt_vec = CountVectorizer(tokenizer=TweetTokenizer().tokenize)\n",
    "X = cnt_vec.fit_transform(train['all_text'])\n",
    "X.shape"
   ]
  },
  {
   "cell_type": "code",
   "execution_count": 18,
   "metadata": {},
   "outputs": [
    {
     "data": {
      "text/plain": [
       "array(['!', '#', '##youtube', ..., 'ûóher', 'ûókody', 'ûótech'],\n",
       "      dtype=object)"
      ]
     },
     "execution_count": 18,
     "metadata": {},
     "output_type": "execute_result"
    }
   ],
   "source": [
    "cnt_vec.get_feature_names_out()"
   ]
  },
  {
   "cell_type": "code",
   "execution_count": 19,
   "metadata": {},
   "outputs": [
    {
     "name": "stdout",
     "output_type": "stream",
     "text": [
      "Слов, содержащих цифры: 4621\n",
      "Слов, содержащих знаки пунктуации: 7546\n",
      "Хэштегов и упоминаний: 3152\n"
     ]
    }
   ],
   "source": [
    "result = map(lambda word: re.findall('\\d+', word), cnt_vec.vocabulary_.keys())\n",
    "print('Слов, содержащих цифры:', len(tuple(filter(lambda lst: len(lst), result))))\n",
    "result = map(lambda word: re.findall(r'[^\\w\\d]', word), cnt_vec.vocabulary_.keys())\n",
    "print('Слов, содержащих знаки пунктуации:', len(tuple(filter(lambda lst: len(lst), result))))\n",
    "result = map(lambda word: re.findall('^[#@]', word), cnt_vec.vocabulary_.keys())\n",
    "print('Хэштегов и упоминаний:', len(tuple(filter(lambda lst: len(lst), result))))"
   ]
  },
  {
   "cell_type": "code",
   "execution_count": 20,
   "metadata": {
    "scrolled": true
   },
   "outputs": [
    {
     "data": {
      "text/plain": [
       "{'bridge': 6461,\n",
       " '%': 1476,\n",
       " '20collapsenanashes': 1997,\n",
       " '2015': 1779,\n",
       " ':': 2911,\n",
       " 'australia': 5552,\n",
       " '\\x89': 24008,\n",
       " 'ûªs': 24058,\n",
       " 'collapse': 7403,\n",
       " 'at': 5449,\n",
       " 'trent': 22414,\n",
       " 'among': 5056,\n",
       " 'worst': 23672,\n",
       " 'in': 15365,\n",
       " 'history': 11750,\n",
       " 'england': 9642,\n",
       " 'bundled': 6568,\n",
       " 'out': 18178,\n",
       " 'for': 10718,\n",
       " '60': 2756,\n",
       " '...': 1515,\n",
       " 'http://t.co/t5trhjuau0': 14255,\n",
       " 'hailcarol': 11329,\n",
       " 'stream': 21312,\n",
       " ',': 1487,\n",
       " 'illinoisgreat': 15309,\n",
       " 'michigan': 17046,\n",
       " 'technique': 21791,\n",
       " 'camp': 6768,\n",
       " 'b1g': 5655,\n",
       " 'thanks': 21943,\n",
       " 'to': 22156,\n",
       " '@bmurph1019': 3173,\n",
       " '@hail_youtsey': 3587,\n",
       " '.': 1513,\n",
       " '@termn8r13': 4399,\n",
       " '#goblue': 521,\n",
       " '#wrestleon': 1445,\n",
       " 'http://t.co/oaskgki6qj': 13801,\n",
       " 'policehouston': 18751,\n",
       " 'cnn': 7353,\n",
       " 'tennessee': 21827,\n",
       " 'movie': 17339,\n",
       " 'theater': 21949,\n",
       " 'shooting': 20522,\n",
       " 'suspect': 21590,\n",
       " 'killed': 16018,\n",
       " 'by': 6658,\n",
       " 'police': 18745,\n",
       " 'http://t.co/di8elzswnr': 12720,\n",
       " 'riotingnanstill': 19772,\n",
       " 'rioting': 19757,\n",
       " 'a': 4624,\n",
       " 'couple': 7795,\n",
       " 'of': 17953,\n",
       " 'hours': 11905,\n",
       " 'left': 16313,\n",
       " 'until': 22812,\n",
       " 'i': 15223,\n",
       " 'have': 11486,\n",
       " 'be': 5826,\n",
       " 'up': 22817,\n",
       " 'class': 7291,\n",
       " 'woundslake': 23711,\n",
       " 'highlandscrack': 11656,\n",
       " 'the': 21948,\n",
       " 'path': 18447,\n",
       " 'where': 23409,\n",
       " 'wiped': 23565,\n",
       " 'this': 21998,\n",
       " 'morning': 17289,\n",
       " 'during': 9332,\n",
       " 'beach': 5828,\n",
       " 'run': 19984,\n",
       " 'surface': 21515,\n",
       " 'wounds': 23700,\n",
       " 'on': 18047,\n",
       " 'elbow': 9466,\n",
       " 'and': 5071,\n",
       " 'right': 19737,\n",
       " 'knee': 16067,\n",
       " 'http://t.co/yaqrsximph': 14711,\n",
       " 'airplane': 4899,\n",
       " '20accidentsomewhere': 1816,\n",
       " 'thereexperts': 21970,\n",
       " 'france': 10784,\n",
       " 'begin': 5874,\n",
       " 'examining': 9901,\n",
       " 'debris': 8331,\n",
       " 'found': 10764,\n",
       " 'reunion': 19685,\n",
       " 'island': 15709,\n",
       " 'french': 10823,\n",
       " 'air': 4892,\n",
       " 'accident': 4700,\n",
       " 'experts': 9949,\n",
       " 'http://t.co/tagzbcxfj0': 14263,\n",
       " '#mlb': 792,\n",
       " 'bloodyisolated': 6229,\n",
       " 'city': 7254,\n",
       " 'world': 23642,\n",
       " \"perth'i\": 18559,\n",
       " 'came': 6765,\n",
       " 'kill': 16017,\n",
       " 'indians': 15409,\n",
       " 'fun': 10882,\n",
       " \"'\": 1478,\n",
       " 'video': 23071,\n",
       " 'smirking': 20827,\n",
       " 'remorseless': 19514,\n",
       " 'pakistani': 18296,\n",
       " 'killer': 16019,\n",
       " 'shows': 20554,\n",
       " 'him': 11727,\n",
       " 'boasting': 6275,\n",
       " 'http://t.co/fpjlwoxklg': 12934,\n",
       " 'burningnan': 6612,\n",
       " '@johnsontionne': 3747,\n",
       " 'except': 9906,\n",
       " 'idk': 15264,\n",
       " 'them': 21956,\n",
       " '?': 2935,\n",
       " \"it's\": 15735,\n",
       " 'really': 19346,\n",
       " 'burning': 6603,\n",
       " 'destroyhe': 8726,\n",
       " '/': 1516,\n",
       " 'or': 18122,\n",
       " 'she': 20474,\n",
       " 'her': 11625,\n",
       " '(': 1479,\n",
       " 'ask': 5422,\n",
       " ')': 1483,\n",
       " 'destroy': 8704,\n",
       " 'house': 11906,\n",
       " 'woundedmaracay': 23683,\n",
       " 'y': 23858,\n",
       " 'nirgua': 17658,\n",
       " 'venezuelapolice': 23028,\n",
       " 'officer': 17966,\n",
       " 'wounded': 23680,\n",
       " 'dead': 8250,\n",
       " 'after': 4839,\n",
       " 'exchanging': 9910,\n",
       " 'shots': 20535,\n",
       " 'http://t.co/xxfk4khbiw': 14679,\n",
       " 'wreck': 23734,\n",
       " 'currently': 8049,\n",
       " 'writing': 23806,\n",
       " 'book': 6364,\n",
       " \"i'm\": 15226,\n",
       " 'friggin': 10845,\n",
       " 'destiel': 8700,\n",
       " 'sucks': 21424,\n",
       " 'read': 19330,\n",
       " 'vine': 23088,\n",
       " 'description': 8644,\n",
       " 'https://t.co/mkx6ux4ozt': 14997,\n",
       " 'mudslidemalibu': 17367,\n",
       " 'santafe': 20102,\n",
       " 'winning': 23560,\n",
       " '!': 0,\n",
       " 'sterling-scott': 21234,\n",
       " 'red': 19394,\n",
       " 'carpet': 6894,\n",
       " 'fundraiser': 10885,\n",
       " 'oso': 18164,\n",
       " 'mudslide': 17359,\n",
       " 'https://t.co/ma4ra7atql': 14993,\n",
       " 'http://t.co/cg579wldne': 12619,\n",
       " 'casualtiescanadian': 6931,\n",
       " 'bread': 6439,\n",
       " '@libertarianluke': 3860,\n",
       " 'all': 4957,\n",
       " 'that': 21944,\n",
       " 'honest': 11810,\n",
       " 'if': 15267,\n",
       " 'people': 18525,\n",
       " 'want': 23202,\n",
       " 'go': 11103,\n",
       " 'rampage': 19261,\n",
       " 'let': 16352,\n",
       " 'use': 22937,\n",
       " 'their': 21954,\n",
       " 'own': 18249,\n",
       " 'hands': 11394,\n",
       " 'feet': 10334,\n",
       " 'no': 17684,\n",
       " 'casualties': 6928,\n",
       " 'ambulanceamsterdamhttp': 5017,\n",
       " ':/': 2918,\n",
       " 't.co/7xglah10zl': 21661,\n",
       " 'twelve': 22566,\n",
       " 'feared': 10292,\n",
       " 'ambulance': 5015,\n",
       " 'helicopter': 11595,\n",
       " 'crash': 7833,\n",
       " 'http://t.co/thmblaatzp': 14294,\n",
       " 'electrocutednangot': 9484,\n",
       " 'electrocuted': 9478,\n",
       " 'last': 16225,\n",
       " 'night': 17647,\n",
       " 'work': 23632,\n",
       " 'first': 10465,\n",
       " 'time': 22111,\n",
       " 'my': 17429,\n",
       " 'life': 16378,\n",
       " 'shit': 20509,\n",
       " 'was': 23229,\n",
       " 'weird': 23370,\n",
       " 'drownnansome': 9277,\n",
       " 'older': 18035,\n",
       " 'native': 17506,\n",
       " 'australians': 5562,\n",
       " 'believe': 5893,\n",
       " 'oceans': 17943,\n",
       " 'were': 23382,\n",
       " 'created': 7889,\n",
       " 'from': 10849,\n",
       " 'urine': 22871,\n",
       " 'an': 5063,\n",
       " 'angry': 5094,\n",
       " 'god': 11110,\n",
       " 'who': 23455,\n",
       " 'tried': 22427,\n",
       " 'drown': 9216,\n",
       " 'volcanowest': 23140,\n",
       " 'coast': 7365,\n",
       " 'cali': 6727,\n",
       " 'usathe': 22921,\n",
       " 'architect': 5253,\n",
       " 'behind': 5885,\n",
       " 'kanye': 15941,\n",
       " 'west': 23386,\n",
       " 'volcano': 23127,\n",
       " 'https://t.co/musbik7ejf': 15002,\n",
       " 'attackmumbaiindia': 5503,\n",
       " 'shud': 20559,\n",
       " 'not': 17738,\n",
       " 'give': 11065,\n",
       " 'any': 5164,\n",
       " 'evidence': 9891,\n",
       " '2': 1754,\n",
       " 'pak.they': 18293,\n",
       " 'will': 23507,\n",
       " 'share': 20463,\n",
       " 'with': 23578,\n",
       " 'terrorists': 21891,\n",
       " '&': 1477,\n",
       " 'next': 17613,\n",
       " 'attack.share': 5469,\n",
       " 'oth': 18167,\n",
       " 'contries': 7711,\n",
       " 'https://t.co/qiopbtiuvu': 15041,\n",
       " 'body': 6283,\n",
       " '20bagnew': 1847,\n",
       " 'yorkauth': 23907,\n",
       " 'louis': 16584,\n",
       " 'vuitton': 23156,\n",
       " 'brown': 6506,\n",
       " 'saumur': 20126,\n",
       " '35': 2598,\n",
       " 'cross': 7926,\n",
       " 'shoulder': 20538,\n",
       " 'bag': 5684,\n",
       " 'monogram': 17255,\n",
       " '7.23': 2796,\n",
       " '419-3': 2660,\n",
       " '-': 1488,\n",
       " 'full': 10878,\n",
       " 'û_': 24042,\n",
       " 'http://t.co/hcdiwe5flc': 13106,\n",
       " 'http://t.co/zlvebeoavg': 14823,\n",
       " 'annihilatedhigher': 5111,\n",
       " 'placesthe': 18668,\n",
       " 'episode': 9732,\n",
       " 'trunks': 22486,\n",
       " 'annihilated': 5107,\n",
       " 'freiza': 10821,\n",
       " 'is': 15699,\n",
       " 'cleanest': 7296,\n",
       " 'ever': 9874,\n",
       " 'he': 11535,\n",
       " 'showed': 20550,\n",
       " 'nigga': 17645,\n",
       " 'mercy': 16994,\n",
       " 'cyclonehyderabad': 8073,\n",
       " '@roughdeal1': 4225,\n",
       " 'ante': 5148,\n",
       " 'hudhud': 15144,\n",
       " 'cyclone': 8068,\n",
       " 'chandrababu': 7107,\n",
       " 'valle': 22984,\n",
       " 'ne': 17546,\n",
       " 'ga': 10910,\n",
       " 'bloody': 6222,\n",
       " '65': 2776,\n",
       " '@zhenghxn': 4613,\n",
       " '11': 1616,\n",
       " 'eyes': 10050,\n",
       " 'akame': 4909,\n",
       " 'tokyo': 22173,\n",
       " 'ghoul': 11045,\n",
       " 'damn': 8158,\n",
       " 'dont': 9107,\n",
       " 'dare': 8198,\n",
       " 'watch': 23250,\n",
       " 'suicide': 21435,\n",
       " '20bombingprincipality': 1929,\n",
       " 'zeron': 23982,\n",
       " '@rayquazaerk': 4179,\n",
       " 'there': 21967,\n",
       " 'are': 5255,\n",
       " 'christian': 7218,\n",
       " 'sure': 21510,\n",
       " 'but': 6644,\n",
       " \"don't\": 9098,\n",
       " 'bombing': 6326,\n",
       " 'employed': 9598,\n",
       " 'often': 17983,\n",
       " 'as': 5404,\n",
       " 'it': 15733,\n",
       " 'islamic': 15707,\n",
       " 'groups': 11236,\n",
       " 'demolishednan': 8483,\n",
       " '@jackmulholland1': 3698,\n",
       " 'think': 21990,\n",
       " 'also': 4993,\n",
       " 'became': 5851,\n",
       " 'marquis': 16781,\n",
       " 'then': 21961,\n",
       " 'carlos': 6878,\n",
       " \"charlie's\": 7131,\n",
       " 'finally': 10407,\n",
       " \"dublin's\": 9302,\n",
       " 'sadly': 20033,\n",
       " 'demolished': 8474,\n",
       " 'inundatednanlet': 15630,\n",
       " 'surf': 21514,\n",
       " 'hi': 11641,\n",
       " 'waimea': 23170,\n",
       " 'bay': 5806,\n",
       " 'like': 16417,\n",
       " 'inundated': 15618,\n",
       " 'surfers': 21516,\n",
       " 'https://t.co/czdw8oowa2': 14922,\n",
       " 'collisiondenver': 7515,\n",
       " 'coloradomotorcyclist': 7543,\n",
       " 'bicyclist': 5954,\n",
       " 'injured': 15464,\n",
       " 'denver': 8553,\n",
       " 'collision': 7509,\n",
       " 'broadway': 6491,\n",
       " 'http://t.co/zl7ojdaj3u': 14819,\n",
       " 'flamessomewhere': 10517,\n",
       " 'around': 5344,\n",
       " 'youmaryland': 23944,\n",
       " 'mansion': 16746,\n",
       " 'fire': 10428,\n",
       " '6': 2751,\n",
       " 'caused': 7026,\n",
       " 'damaged': 8126,\n",
       " 'plug': 18718,\n",
       " 'under': 22752,\n",
       " 'christmas': 7221,\n",
       " 'tree': 22403,\n",
       " 'report': 19543,\n",
       " 'says': 20138,\n",
       " 'into': 15612,\n",
       " 'flames': 10495,\n",
       " 'http://t.co/lkjfabqzb3': 13526,\n",
       " 'demolishnyhcif': 8505,\n",
       " 'you': 23937,\n",
       " 'going': 11117,\n",
       " 'demolish': 8472,\n",
       " \"drake's\": 9147,\n",
       " 'over': 18227,\n",
       " 'some': 20936,\n",
       " 'ghostwriting': 11044,\n",
       " 'should': 20536,\n",
       " 'know': 16080,\n",
       " 'rihanna': 19740,\n",
       " 'lives': 16480,\n",
       " 'door': 9109,\n",
       " 'buildings': 6552,\n",
       " '20burninggo': 1976,\n",
       " 'blue': 6262,\n",
       " 'hail': 11324,\n",
       " 'yes': 23887,\n",
       " '@1acd4900c1424d1': 2941,\n",
       " '@foxnews': 3517,\n",
       " 'one': 18051,\n",
       " 'down': 9126,\n",
       " 'looting': 16562,\n",
       " 'forest': 10732,\n",
       " '20firesnicola': 2179,\n",
       " 'valleyforest': 22986,\n",
       " 'fires': 10455,\n",
       " 'dying': 9344,\n",
       " 'salmon': 20057,\n",
       " 'act': 4750,\n",
       " 'deny': 8555,\n",
       " 'climate': 7316,\n",
       " 'change': 7108,\n",
       " 'nightmares': 17649,\n",
       " 'here': 11626,\n",
       " 'http://t.co/rbzomwgjee': 14088,\n",
       " '#bcpoli': 156,\n",
       " '#canpoli': 231,\n",
       " '#vanpoli': 1371,\n",
       " 'volcanonanhttp': 23135,\n",
       " 't.co/ns1aggfnxz': 21686,\n",
       " '#shoes': 1145,\n",
       " 'asics': 5420,\n",
       " 'gt-ii': 11249,\n",
       " 'super': 21486,\n",
       " '2.0': 1756,\n",
       " 'ronnie': 19868,\n",
       " 'fieg': 10377,\n",
       " 'kith': 16061,\n",
       " 'white': 23451,\n",
       " '3m': 2628,\n",
       " 'x': 23828,\n",
       " 'gel': 10995,\n",
       " 'grey': 11215,\n",
       " 'http://t.co/od250zshfy': 13809,\n",
       " 'sandstormnanwatch': 20089,\n",
       " 'airport': 4902,\n",
       " 'get': 11031,\n",
       " 'swallowed': 21600,\n",
       " 'sandstorm': 20083,\n",
       " 'minute': 17158,\n",
       " 'http://t.co/wd9odwjj9l': 14549,\n",
       " '20on': 2243,\n",
       " '20fireuk': 2201,\n",
       " '#tweetlikeitsseptember11th2001': 1339,\n",
       " 'those': 22004,\n",
       " 'two': 22601,\n",
       " 'oil': 18007,\n",
       " '20spillnew': 2353,\n",
       " 'york': 23903,\n",
       " 'nycalifornia': 17823,\n",
       " 'spill': 21053,\n",
       " 'might': 17076,\n",
       " 'larger': 16219,\n",
       " 'than': 21937,\n",
       " 'projected': 18977,\n",
       " 'http://t.co/xwxbyhtuzc': 14678,\n",
       " 'http://t.co/wzedxefblg': 14608,\n",
       " '20firesnancartoon': 2167,\n",
       " 'bears': 5836,\n",
       " 'without': 23583,\n",
       " 'we': 23278,\n",
       " 'would': 23674,\n",
       " 'qave': 19110,\n",
       " 'knowlddge': 16082,\n",
       " 'toilet': 22171,\n",
       " 'paper': 18393,\n",
       " 'droughtmiami': 9205,\n",
       " '@_gaabyx': 2969,\n",
       " 'got': 11150,\n",
       " 'purple': 19087,\n",
       " 'activist': 4762,\n",
       " 'thought': 22007,\n",
       " 'drought': 9193,\n",
       " 'injuriesmadison': 15491,\n",
       " 'wi': 23467,\n",
       " 'st': 21120,\n",
       " 'mo': 17213,\n",
       " '@buffoonmike': 3202,\n",
       " 'knew': 16069,\n",
       " 'doing': 9080,\n",
       " 'much': 17357,\n",
       " 'bite': 6034,\n",
       " 'us': 22874,\n",
       " 'influenced': 15450,\n",
       " 'shitty': 20513,\n",
       " 'staff': 21126,\n",
       " 'injuries': 15483,\n",
       " 'acquisitions': 4745,\n",
       " 'landslideaustin': 16182,\n",
       " 'texas': 21906,\n",
       " '@toddstarnes': 4458,\n",
       " 'enjoy': 9689,\n",
       " 'impending': 15345,\n",
       " 'landslide': 16181,\n",
       " 'todd': 22164,\n",
       " 'hehe': 11584,\n",
       " 'apocalypseoregon': 5198,\n",
       " 'usago': 22894,\n",
       " 'look': 16549,\n",
       " 'grizzly': 11225,\n",
       " 'peak': 18498,\n",
       " 'now': 17765,\n",
       " 'looks': 16553,\n",
       " 'beginning': 5876,\n",
       " 'dystopian': 9346,\n",
       " 'apocalypse': 5182,\n",
       " 'detonationnanignition': 8807,\n",
       " 'knock': 16075,\n",
       " 'detonation': 8799,\n",
       " 'sensor-senso': 20378,\n",
       " 'standard': 21138,\n",
       " 'ks100': 16108,\n",
       " 'http://t.co/7o4lnfbe7k': 12284,\n",
       " 'http://t.co/fvzsgjtbew': 12957,\n",
       " '20respondersnanthis': 2304,\n",
       " 'week': 23360,\n",
       " 'responders': 19646,\n",
       " 'dart': 8204,\n",
       " 'members': 16975,\n",
       " 'participating': 18423,\n",
       " 'four': 10768,\n",
       " 'day': 8221,\n",
       " 'intensive': 15583,\n",
       " 'technical': 21789,\n",
       " 'large': 16218,\n",
       " 'animal': 5095,\n",
       " 'http://t.co/tl93aod3er': 14306,\n",
       " 'militarynanlot': 17100,\n",
       " '20': 1765,\n",
       " 'tom': 22178,\n",
       " 'clancy': 7287,\n",
       " 'military': 17092,\n",
       " 'mystery': 17435,\n",
       " 'novels': 17763,\n",
       " 'paperback': 18394,\n",
       " 'http://t.co/obix79ncxn': 13804,\n",
       " '#tomclancy': 1290,\n",
       " 'drowningcoventrywhy': 9250,\n",
       " 'drowning': 9246,\n",
       " 'low': 16595,\n",
       " 'self-image': 20352,\n",
       " 'take': 21721,\n",
       " 'quiz': 19184,\n",
       " 'http://t.co/z8r6r3nbtb': 14787,\n",
       " 'http://t.co/namffldh5h': 13695,\n",
       " \"apocalypsecoloradoi'm\": 5187,\n",
       " 'gonna': 11126,\n",
       " 'fight': 10386,\n",
       " 'taylor': 21766,\n",
       " 'soon': 20965,\n",
       " 'dangerhailing': 8174,\n",
       " 'dayton': 8225,\n",
       " 'wish': 23574,\n",
       " 'could': 7781,\n",
       " \"victoria's\": 23064,\n",
       " 'secret': 20296,\n",
       " 'front': 10850,\n",
       " 'good': 11127,\n",
       " 'floodnew': 10618,\n",
       " 'yorkspot': 23927,\n",
       " 'flood': 10587,\n",
       " 'combo': 7561,\n",
       " '53inch': 2724,\n",
       " '300w': 2572,\n",
       " 'curved': 8053,\n",
       " 'cree': 7897,\n",
       " 'led': 16308,\n",
       " 'light': 16389,\n",
       " 'bar': 5728,\n",
       " '4x4': 2698,\n",
       " 'offroad': 17978,\n",
       " 'fog': 10686,\n",
       " 'lamp': 16164,\n",
       " 're': 19317,\n",
       " 'http://t.co/o097vsotxk': 13777,\n",
       " 'http://t.co/i23xy7iejj': 13180,\n",
       " 'nannansevere': 17480,\n",
       " 'weather': 23342,\n",
       " 'bulletin': 6557,\n",
       " '5': 2700,\n",
       " 'typhoon': 22644,\n",
       " 'ûï': 24063,\n",
       " '#hannaph': 556,\n",
       " 'û': 24041,\n",
       " '\\x9d': 24010,\n",
       " 'soudelor': 20978,\n",
       " 'tropical': 22449,\n",
       " 'warning': 23217,\n",
       " 'issued': 15729,\n",
       " '5:00': 2740,\n",
       " 'pm': 18725,\n",
       " '06': 1544,\n",
       " 'http://t.co/thhjjw51pe': 14293,\n",
       " 'fits': 10473,\n",
       " '01-06': 1529,\n",
       " 'bmw': 6269,\n",
       " '325ci': 2590,\n",
       " '2.5': 1761,\n",
       " 'l-l': 16134,\n",
       " 'http://t.co/gbvdnczjou': 12997,\n",
       " 'http://t.co/c211hise0r': 12586,\n",
       " 'explosionlondon': 10008,\n",
       " 'united': 22787,\n",
       " 'kingdomaround': 16038,\n",
       " '10': 1582,\n",
       " 'explosion': 10000,\n",
       " 'chemical': 7154,\n",
       " 'park': 18409,\n",
       " 'western': 23388,\n",
       " 'germany': 11023,\n",
       " 'http://t.co/xbznu0qkvs': 14625,\n",
       " 'bombnansoul': 6350,\n",
       " 'food': 10704,\n",
       " 'sound': 20984,\n",
       " 'so': 20897,\n",
       " 'bomb': 6292,\n",
       " 'terrorismnantruth': 21865,\n",
       " 'https://t.co/bejftygjil': 14911,\n",
       " '#news': 848,\n",
       " '#bbc': 151,\n",
       " '#cnn': 275,\n",
       " '#islam': 650,\n",
       " '#truth': 1325,\n",
       " '#god': 522,\n",
       " '#isis': 649,\n",
       " '#terrorism': 1251,\n",
       " '#quran': 1030,\n",
       " '#lies': 727,\n",
       " 'http://t.co/jlczidz7vu': 13324,\n",
       " 'sinkingmichigan': 20661,\n",
       " 'usa': 22877,\n",
       " '¢': 24012,\n",
       " 'your': 23948,\n",
       " 'lost': 16577,\n",
       " 'alone': 4983,\n",
       " 'sinking': 20651,\n",
       " 'stone': 21261,\n",
       " 'carry': 6898,\n",
       " 'onå': 18080,\n",
       " '¡': 24011,\n",
       " 'å': 24024,\n",
       " 'hostagenew': 11866,\n",
       " 'chicago': 7166,\n",
       " '@mylittlepwnies3': 4021,\n",
       " '@early__may': 3445,\n",
       " '@anathemazhiv': 3042,\n",
       " '@tonysandos': 4469,\n",
       " 'which': 23415,\n",
       " 'has': 11463,\n",
       " 'do': 9061,\n",
       " 'lebanon': 16306,\n",
       " '80s': 2845,\n",
       " 'attack': 5468,\n",
       " 'iran': 15678,\n",
       " 'hostage': 11854,\n",
       " 'crisis': 7917,\n",
       " 'libya': 16372,\n",
       " 'pan': 18309,\n",
       " 'am': 5005,\n",
       " 'policeus': 18768,\n",
       " 'pacalifornia': 18258,\n",
       " 'pulls': 19062,\n",
       " 'gun': 11275,\n",
       " 'man': 16726,\n",
       " 'apparent': 5212,\n",
       " 'provocation': 19029,\n",
       " 'http://t.co/lhw4vtbhzg': 13519,\n",
       " 'via': 23051,\n",
       " '@dailykos': 3340,\n",
       " 'derailmentminneapolis': 8612,\n",
       " 'mn': 17210,\n",
       " 'ustrain': 22944,\n",
       " 'derailment': 8604,\n",
       " 'patna': 18455,\n",
       " 'news': 17607,\n",
       " 'casualty': 6945,\n",
       " 'far': 10161,\n",
       " 'indian': 15404,\n",
       " 'express': 10033,\n",
       " 'http://t.co/yh5vetm0yz': 14729,\n",
       " 'http://t.co/17wgug8z0m': 11984,\n",
       " 'panicnan': 18371,\n",
       " '#dream': 363,\n",
       " '#magic': 759,\n",
       " '#linden': 730,\n",
       " 'method': 17014,\n",
       " 'lite': 16461,\n",
       " 'version': 23040,\n",
       " '#': 1,\n",
       " '1': 1567,\n",
       " 'anxiety': 5163,\n",
       " 'panic': 18342,\n",
       " 'cure': 8023,\n",
       " 'program': 18970,\n",
       " 'http://t.co/073izwx0lb': 11931,\n",
       " 'lind': 16434,\n",
       " 'http://t.co/okmlagvkjv': 13831,\n",
       " 'rescuedjammu': 19574,\n",
       " '|': 24003,\n",
       " 'kashmir': 15948,\n",
       " 'delhi': 8410,\n",
       " '18': 1706,\n",
       " 'bovines': 6400,\n",
       " 'rescued': 19566,\n",
       " '3': 2558,\n",
       " 'smugglersåênabbed': 20855,\n",
       " 'http://t.co/e7fn5g5ruu': 12792,\n",
       " 'woundedfredericksburg': 23682,\n",
       " 'virginia': 23100,\n",
       " '@wwp': 4577,\n",
       " 'serving': 20409,\n",
       " 'more': 17284,\n",
       " '75k': 2817,\n",
       " 'veterans': 23048,\n",
       " '52k': 2720,\n",
       " 'oif': 18006,\n",
       " 'oef': 17951,\n",
       " 'vets': 23049,\n",
       " 'physical': 18602,\n",
       " ';': 2923,\n",
       " 'many': 16750,\n",
       " 'invisible': 15659,\n",
       " 'ones': 18055,\n",
       " 'http://t.co/shhlv4dplz': 14189,\n",
       " '#client': 272,\n",
       " 'dust': 9334,\n",
       " '20stormnani': 2375,\n",
       " 'learned': 16298,\n",
       " 'about': 4675,\n",
       " 'economics': 9414,\n",
       " 'south': 20992,\n",
       " 'dakota': 8112,\n",
       " 'storm': 21271,\n",
       " 'did': 8884,\n",
       " 'years': 23876,\n",
       " 'college': 7458,\n",
       " 'hubert': 15143,\n",
       " 'humphrey': 15167,\n",
       " 'wreckednan': 23768,\n",
       " 'cramer': 7827,\n",
       " \"iger's\": 15272,\n",
       " 'words': 23631,\n",
       " 'wrecked': 23759,\n",
       " \"disney's\": 8993,\n",
       " 'stock': 21252,\n",
       " 'http://t.co/sf5jdnvdw9': 14184,\n",
       " '#til_now': 1283,\n",
       " '#cnbc': 274,\n",
       " 'mudslidetring': 17382,\n",
       " '@marc_holl': 3916,\n",
       " '@nennicook': 4039,\n",
       " '@aitchkaycee': 3013,\n",
       " '@vixstuart': 4528,\n",
       " '@benjbeckwith': 3140,\n",
       " 'pretty': 18918,\n",
       " '#disaster': 346,\n",
       " '#gbbo': 499,\n",
       " '#mudslide': 813,\n",
       " 'obliterationcanada': 17912,\n",
       " 'need': 17561,\n",
       " 'arcade': 5251,\n",
       " 'shooter': 20521,\n",
       " 'fix': 10478,\n",
       " 'cte': 8002,\n",
       " 'empty': 9602,\n",
       " 'only': 18063,\n",
       " 'running': 19990,\n",
       " 'obliteration': 17910,\n",
       " \"i'd\": 15224,\n",
       " 'even': 9869,\n",
       " 'buy': 6654,\n",
       " 'cod': 7380,\n",
       " 'title': 22133,\n",
       " 'they': 21978,\n",
       " \"weren't\": 23384,\n",
       " 'overpriced': 18236,\n",
       " 'steam': 21222,\n",
       " 'bioterrorismnanfirepower': 6001,\n",
       " 'lab': 16139,\n",
       " '[': 4614,\n",
       " 'electronic': 9518,\n",
       " 'resource': 19638,\n",
       " ']': 4618,\n",
       " 'automation': 5581,\n",
       " 'against': 4857,\n",
       " 'infectious': 15441,\n",
       " 'diseases': 8983,\n",
       " 'bioterrorism': 5994,\n",
       " 'http://t.co/kvpbybglsr': 13458,\n",
       " 'drownnan': 9274,\n",
       " '@graysondolan': 3572,\n",
       " 'u': 22680,\n",
       " 'me': 16908,\n",
       " 'explodewashington': 9991,\n",
       " 'd.c.kendall': 8097,\n",
       " 'jenner': 15822,\n",
       " 'nick': 17624,\n",
       " 'jonas': 15876,\n",
       " 'dating': 8212,\n",
       " 'quite': 19183,\n",
       " 'literally': 16462,\n",
       " 'explode': 9955,\n",
       " 'http://t.co/pfvzvpxqgr': 13909,\n",
       " 'hostagenani': 11859,\n",
       " 'always': 5004,\n",
       " 'tell': 21811,\n",
       " 'mom': 17240,\n",
       " 'bring': 6473,\n",
       " 'hold': 11774,\n",
       " 'cat': 6967,\n",
       " 'heat': 11572,\n",
       " '20wavefort': 2456,\n",
       " 'worth': 23673,\n",
       " 'rt': 19918,\n",
       " '@startelegram': 4337,\n",
       " 'homeless': 11798,\n",
       " 'vulnerable': 23159,\n",
       " 'north': 17722,\n",
       " 'wave': 23260,\n",
       " 'http://t.co/k9airfq3ql': 13384,\n",
       " 'http://t.co/jdbtlymehy': 13304,\n",
       " 'nuclear': 17781,\n",
       " '20reactordenver': 2269,\n",
       " 'conuclear': 7715,\n",
       " '#solar': 1177,\n",
       " 'power': 18843,\n",
       " '#japanese': 664,\n",
       " '#fukushima': 481,\n",
       " 'reactor': 19326,\n",
       " 'energy': 9634,\n",
       " 'japan': 15791,\n",
       " 'temperature': 21819,\n",
       " 'fuel': 10872,\n",
       " 'pool': 18782,\n",
       " 'http://t.co/ys3nmwwyvc': 14761,\n",
       " 'http://t.co/alpotnb7q3': 12437,\n",
       " 'collisionarvada': 7512,\n",
       " 'comotorcyclist': 7600,\n",
       " 'least': 16301,\n",
       " 'taken': 21724,\n",
       " 'local': 16508,\n",
       " 'http://t.co/wlmsq3mtho': 14571,\n",
       " 'traumanashville': 22367,\n",
       " 'tnesteemed': 22147,\n",
       " 'journalist': 15890,\n",
       " 'recalls': 19364,\n",
       " 'tragic': 22305,\n",
       " 'effects': 9444,\n",
       " 'unaddressed': 22736,\n",
       " '#childhood': 260,\n",
       " '#trauma': 1305,\n",
       " '@keithboykin': 3794,\n",
       " '@randallpinkston': 4170,\n",
       " '@pozarmy': 4137,\n",
       " 'http://t.co/gxq1auzb18': 13070,\n",
       " 'panickingnani': 18356,\n",
       " 'feel': 10328,\n",
       " 'panicking': 18347,\n",
       " 'results': 19668,\n",
       " 'back': 5667,\n",
       " 'alarmingly': 4927,\n",
       " 'calm': 6755,\n",
       " 'lightningnanthunder': 16403,\n",
       " 'lightning': 16395,\n",
       " 'possible': 18813,\n",
       " 'pinpoint': 18636,\n",
       " 'foothill': 10717,\n",
       " 'forecast': 10725,\n",
       " 'http://t.co/ctijdpxabk': 12658,\n",
       " 'displacednew': 9010,\n",
       " '40': 2643,\n",
       " 'displaced': 9003,\n",
       " 'ocean': 17942,\n",
       " 'township': 22265,\n",
       " 'apartment': 5176,\n",
       " '#newyork': 854,\n",
       " 'http://t.co/uelz59wvom': 14387,\n",
       " 'massacrestay': 16817,\n",
       " 'tuned': 22538,\n",
       " ';)': 2924,\n",
       " '@freddiedeboer': 3523,\n",
       " '@thucydiplease': 4440,\n",
       " 'rise': 19803,\n",
       " 'coates': 7372,\n",
       " 'charleston': 7129,\n",
       " 'massacre': 16803,\n",
       " 'walter': 23195,\n",
       " 'scott': 20186,\n",
       " 'black': 6043,\n",
       " 'twitter': 22600,\n",
       " 'broadly': 6490,\n",
       " 'well': 23375,\n",
       " 'deathstennessee': 8317,\n",
       " 'gallifrey': 10937,\n",
       " '@mathew_is_angry': 3931,\n",
       " '@z3ke_sk1': 4604,\n",
       " '@saladinahmed': 4244,\n",
       " 'died': 8890,\n",
       " 'horrible': 11842,\n",
       " 'deaths': 8302,\n",
       " 'trapped': 22328,\n",
       " 'ships': 20504,\n",
       " 'risk': 19806,\n",
       " '20buildingswhiterun': 1970,\n",
       " 'skyrimdestruction': 20767,\n",
       " \"magic's\": 16678,\n",
       " 'fine': 10414,\n",
       " 'just': 15923,\n",
       " 'windstormpalm': 23546,\n",
       " 'county': 7793,\n",
       " 'flreality': 10668,\n",
       " 'training': 22311,\n",
       " 'train': 22309,\n",
       " 'falls': 10117,\n",
       " 'off': 17956,\n",
       " 'elevated': 9524,\n",
       " 'tracks': 22278,\n",
       " 'windstorm': 23524,\n",
       " 'http://t.co/jiomnrcygt': 13318,\n",
       " '#paramedic': 952,\n",
       " '#ems': 397,\n",
       " 'rescuersnan': 19602,\n",
       " '#world': 1437,\n",
       " 'fears': 10307,\n",
       " 'missing': 17181,\n",
       " 'migrants': 17079,\n",
       " 'med': 16925,\n",
       " 'rescuers': 19597,\n",
       " 'search': 20280,\n",
       " 'survivors': 21573,\n",
       " 'boat': 6276,\n",
       " 'carrying': 6900,\n",
       " 'http://t.co/6ds67xai5e': 12217,\n",
       " 'derailedtorontoso': 8596,\n",
       " 'derailed_benchmark': 8576,\n",
       " 'cool': 7724,\n",
       " 'paths': 18451,\n",
       " 'wonder': 23615,\n",
       " 'can': 6782,\n",
       " 'find': 10411,\n",
       " 'leaks': 16296,\n",
       " 'jobs': 15860,\n",
       " 'given': 11067,\n",
       " 'resque': 19652,\n",
       " 'too': 22189,\n",
       " 'yorknew': 23921,\n",
       " 'ladies': 16147,\n",
       " 'tote': 22243,\n",
       " 'handbag': 11388,\n",
       " 'women': 23608,\n",
       " 'faux': 10267,\n",
       " 'leather': 16302,\n",
       " 'fashion': 10173,\n",
       " 'purse': 19091,\n",
       " 'http://t.co/y87gi3brlv': 14705,\n",
       " 'http://t.co/1zbhvdcxzs': 12026,\n",
       " 'derailmentuk': 8621,\n",
       " '@raishimi33': 4169,\n",
       " ':)': 2914,\n",
       " 'sounds': 20987,\n",
       " 'plan': 18674,\n",
       " 'little': 16466,\n",
       " 'applaud': 5218,\n",
       " 'catastrophicbuxton': 6991,\n",
       " 'venice': 23029,\n",
       " \"nottingham'invading\": 17757,\n",
       " 'iraq': 15681,\n",
       " 'catastrophic': 6990,\n",
       " 'mistake': 17188,\n",
       " 'diplomacy': 8920,\n",
       " 'needs': 17565,\n",
       " 'replace': 19538,\n",
       " 'constant': 7684,\n",
       " 'threat': 22014,\n",
       " 'war': 23207,\n",
       " 'israel': 15724,\n",
       " 'http://t.co/yqjpn3quux': 14756,\n",
       " 'hostagenanrelated': 11862,\n",
       " 'isis': 15702,\n",
       " 'threatens': 22017,\n",
       " 'europe': 9786,\n",
       " 'http://t.co/wk6b5z803o': 14568,\n",
       " 'wreckedlivingston': 23766,\n",
       " 'mt': 17355,\n",
       " '@marynmck': 3929,\n",
       " \"that's\": 21946,\n",
       " 'beyond': 5941,\n",
       " 'adorable': 4793,\n",
       " 'hope': 11828,\n",
       " \"won't\": 23614,\n",
       " 'been': 5866,\n",
       " 'noticed': 17747,\n",
       " 'devastationmount': 8847,\n",
       " 'vernon': 23038,\n",
       " 'nydevastation': 17827,\n",
       " 'coming': 7571,\n",
       " '@target': 4382,\n",
       " '@starbucks': 4336,\n",
       " 'closed': 7325,\n",
       " '#momneedscoffee': 797,\n",
       " '#asap': 113,\n",
       " '#iwontmakeit': 658,\n",
       " 'bombedscrewston': 6320,\n",
       " \"tx'redskins\": 22608,\n",
       " 'wr': 23728,\n",
       " 'roberts': 19831,\n",
       " 'belly-bombed': 5900,\n",
       " '@teamstream': 4392,\n",
       " ...}"
      ]
     },
     "execution_count": 20,
     "metadata": {},
     "output_type": "execute_result"
    }
   ],
   "source": [
    "cnt_vec.vocabulary_"
   ]
  },
  {
   "cell_type": "markdown",
   "metadata": {},
   "source": [
    "TweetTokenizer не пропускает упоминания и хэштеги. Поэтому при анализе с помощью этого токенайзера мы получили 3152 твита с хэштегом или упоминанием, а при использовании CountVectorizer с токенайзером по умолчанию получили 0.\n",
    "\n",
    "Также CountVectorizer с токенайзером по умолчанию не подсчитывает количество вхождений слов длины меньшей либо равной 2. Поэтому мы получили разные значения в количестве слов с цифрами, так как TweetTokenizer подсчитал вхождения, например, отедльных цифр.\n",
    "\n",
    "Кроме того, TweetTokenizer не удаляет ссылки, а также хэштеги, собачки, двоеточия и другие знаки препинания, поэтому мы получили такое большое число слов с пунктуацией."
   ]
  },
  {
   "cell_type": "code",
   "execution_count": 48,
   "metadata": {},
   "outputs": [
    {
     "name": "stdout",
     "output_type": "stream",
     "text": [
      "['%']\n",
      "[':']\n",
      "['\\x89']\n",
      "['.', '.', '.']\n",
      "[':', '/', '/', '.', '/']\n",
      "[',']\n",
      "['@']\n",
      "['@']\n",
      "['.']\n",
      "['@']\n",
      "['#']\n",
      "['#']\n",
      "[':', '/', '/', '.', '/']\n",
      "[':', '/', '/', '.', '/']\n",
      "[':', '/', '/', '.', '/']\n",
      "[':', '/', '/', '.', '/']\n",
      "['#']\n"
     ]
    }
   ],
   "source": [
    "result = map(lambda word: re.findall(r'[^\\w\\d]', word), cnt_vec.vocabulary_.keys())\n",
    "for word in tuple(result)[:100]:\n",
    "    if word:\n",
    "        print(word)"
   ]
  },
  {
   "cell_type": "markdown",
   "metadata": {},
   "source": [
    "## Задание 7 (2 балла)\n",
    "\n",
    "В scikit-learn мы можем оценивать процесс подсчета матрицы через CountVectorizer. У CountVectorizer, как и у других наследников \\_VectorizerMixin, есть аргумент tokenizer и preprocessor. preprocessor применится в самом начале к каждой строке вашего датасета, tokenizer же должен **принять строку** и **вернуть токены**.\n",
    "Давайте напишем кастомный токенайзер, которые сделает все, что нам нужно: \n",
    "\n",
    "0. Приведет все буквы к нижнему регистру\n",
    "1. Разобьет текст на токены с помощью TweetTokenizer из пакета nltk\n",
    "2. Удалит все токены, содержащие не латинские буквы, кроме смайликов (будем считать ими токены содержащие только пунктуацию и, как минимум, одну скобочку) и хэштегов, которые после начальной # содержат только латинские буквы.\n",
    "3. Удалит все токены, которые перечислены в nltk.corpus.stopwords.words('english')\n",
    "4. Проведет стемминг с помощью SnowballStemmer\n",
    "\n",
    "Продемонстрируйте работу вашей функции на первых десяти текстах в обучающей выборке."
   ]
  },
  {
   "cell_type": "code",
   "execution_count": 21,
   "metadata": {},
   "outputs": [
    {
     "data": {
      "text/plain": [
       "'!\"#$%&\\'()*+,-./:;<=>?@[\\\\]^_`{|}~'"
      ]
     },
     "execution_count": 21,
     "metadata": {},
     "output_type": "execute_result"
    }
   ],
   "source": [
    "from string import punctuation\n",
    "punctuation"
   ]
  },
  {
   "cell_type": "code",
   "execution_count": 22,
   "metadata": {},
   "outputs": [],
   "source": [
    "import nltk\n",
    "from nltk.stem.snowball import SnowballStemmer"
   ]
  },
  {
   "cell_type": "code",
   "execution_count": 23,
   "metadata": {},
   "outputs": [],
   "source": [
    "re.fullmatch('[A-Za-z]+', 'http://t.co/t5TrhjUAU0')"
   ]
  },
  {
   "cell_type": "code",
   "execution_count": 24,
   "metadata": {},
   "outputs": [],
   "source": [
    "patterns = {'emodzi': '[^\\w]*[^\\s]*[()]+[^\\w]*[^\\s]*',\n",
    "            'hashtags': '^#[A-Za-z]+$',\n",
    "            'latin_word': '[A-Za-z]+'}"
   ]
  },
  {
   "cell_type": "code",
   "execution_count": 25,
   "metadata": {},
   "outputs": [],
   "source": [
    "def my_tokenizer(string: str) -> list[str]:\n",
    "    stemmer = SnowballStemmer('english')\n",
    "    bad_words = nltk.corpus.stopwords.words('english')\n",
    "    tweet = TweetTokenizer()\n",
    "    result = []\n",
    "    words = tweet.tokenize(string)\n",
    "    for word in words:\n",
    "        # проверяем, состоит ли слово только из латинских букв, или оно смайлик, или хэштег\n",
    "        if re.fullmatch(patterns['latin_word'], word) or re.fullmatch(patterns['emodzi'], word) or re.fullmatch(patterns['hashtags'], word):\n",
    "            clean_word = word\n",
    "        else:\n",
    "            clean_word = ''\n",
    "        if clean_word in bad_words:\n",
    "            clean_word = ''\n",
    "        clean_word = stemmer.stem(clean_word)\n",
    "        if clean_word:\n",
    "            result.append(clean_word)\n",
    "    return result"
   ]
  },
  {
   "cell_type": "code",
   "execution_count": 26,
   "metadata": {},
   "outputs": [
    {
     "name": "stdout",
     "output_type": "stream",
     "text": [
      "1) Оригинальный твит:\n",
      "bridge%20collapsenanAshes 2015: AustraliaÛªs collapse at Trent Bridge among worst in history: England bundled out Australia for 60 ... http://t.co/t5TrhjUAU0\n",
      "\n",
      "Полученные токены:\n",
      "['bridg', 'australia', 'collaps', 'trent', 'bridg', 'among', 'worst', 'histori', 'england', 'bundl', 'australia']\n",
      "\n",
      "2) Оригинальный твит:\n",
      "hailCarol Stream, IllinoisGREAT MICHIGAN TECHNIQUE CAMP\n",
      "B1G THANKS TO @bmurph1019 \n",
      "@hail_Youtsey . @termn8r13 \n",
      "#GoBlue #WrestleOn http://t.co/OasKgki6Qj\n",
      "\n",
      "Полученные токены:\n",
      "['hailcarol', 'stream', 'illinoisgreat', 'michigan', 'techniqu', 'camp', 'thank', 'to', '#goblu', '#wrestleon']\n",
      "\n",
      "3) Оригинальный твит:\n",
      "policeHouston CNN: Tennessee movie theater shooting suspect killed by police http://t.co/dI8ElZsWNR\n",
      "\n",
      "Полученные токены:\n",
      "['policehouston', 'cnn', 'tennesse', 'movi', 'theater', 'shoot', 'suspect', 'kill', 'polic']\n",
      "\n",
      "4) Оригинальный твит:\n",
      "riotingnanStill rioting in a couple of hours left until I have to be up for class.\n",
      "\n",
      "Полученные токены:\n",
      "['riotingnanstil', 'riot', 'coupl', 'hour', 'left', 'i', 'class']\n",
      "\n",
      "5) Оригинальный твит:\n",
      "woundsLake HighlandsCrack in the path where I wiped out this morning during beach run. Surface wounds on left elbow and right knee. http://t.co/yaqRSximph\n",
      "\n",
      "Полученные токены:\n",
      "['woundslak', 'highlandscrack', 'path', 'i', 'wipe', 'morn', 'beach', 'run', 'surfac', 'wound', 'left', 'elbow', 'right', 'knee']\n",
      "\n",
      "6) Оригинальный твит:\n",
      "airplane%20accidentSomewhere Out ThereExperts in France begin examining airplane debris found on Reunion Island: French air accident experts on... http://t.co/TagZbcXFj0 #MLB\n",
      "\n",
      "Полученные токены:\n",
      "['airplan', 'out', 'thereexpert', 'franc', 'begin', 'examin', 'airplan', 'debri', 'found', 'reunion', 'island', 'french', 'air', 'accid', 'expert', '#mlb']\n",
      "\n",
      "7) Оригинальный твит:\n",
      "bloodyIsolated City In World Perth'I came to kill Indians...for FUN': Video of smirking and remorseless Pakistani killer shows him boasting. http://t.co/FPjLwOXKlg\n",
      "\n",
      "Полученные токены:\n",
      "['bloodyisol', 'citi', 'in', 'world', 'came', 'kill', 'indian', 'fun', 'video', 'smirk', 'remorseless', 'pakistani', 'killer', 'show', 'boast']\n",
      "\n",
      "8) Оригинальный твит:\n",
      "burningnan@JohnsonTionne except idk them?? it's really burning ??????\n",
      "\n",
      "Полученные токены:\n",
      "['burningnan', 'except', 'idk', 'realli', 'burn']\n",
      "\n",
      "9) Оригинальный твит:\n",
      "destroyhe/him or she/her (ask)destroy the house\n",
      "\n",
      "Полученные токены:\n",
      "['destroyh', '(', 'ask', ')', 'destroy', 'hous']\n",
      "\n",
      "10) Оригинальный твит:\n",
      "woundedMaracay y Nirgua, VenezuelaPolice Officer Wounded Suspect Dead After Exchanging Shots http://t.co/XxFk4KHbIw\n",
      "\n",
      "Полученные токены:\n",
      "['woundedmaracay', 'nirgua', 'venezuelapolic', 'offic', 'wound', 'suspect', 'dead', 'after', 'exchang', 'shot']\n",
      "\n"
     ]
    }
   ],
   "source": [
    "counter = 1\n",
    "for line in train['all_text'][:10]:\n",
    "    print(f'{counter}) Оригинальный твит:\\n{line}\\n\\nПолученные токены:')\n",
    "    print(my_tokenizer(line), end='\\n\\n')\n",
    "    counter += 1"
   ]
  },
  {
   "cell_type": "markdown",
   "metadata": {},
   "source": [
    "## Задание 8 (1 балл)\n",
    "\n",
    "1. Примените CountVectorizer с реализованным выше токенизатором к обучающим и тестовым выборкам.\n",
    "2. Обучите LogisticRegression на полученных признаках.\n",
    "3. Посчитайте метрику f1-score на тестовых данных."
   ]
  },
  {
   "cell_type": "code",
   "execution_count": 27,
   "metadata": {},
   "outputs": [],
   "source": [
    "from sklearn.linear_model import LogisticRegression\n",
    "from sklearn.metrics import f1_score"
   ]
  },
  {
   "cell_type": "code",
   "execution_count": 28,
   "metadata": {},
   "outputs": [],
   "source": [
    "Y_train = train['target']\n",
    "Y_test = test['target']"
   ]
  },
  {
   "cell_type": "code",
   "execution_count": 51,
   "metadata": {},
   "outputs": [
    {
     "name": "stdout",
     "output_type": "stream",
     "text": [
      "0.9653191959354982\n",
      "0.7453347969264544\n"
     ]
    }
   ],
   "source": [
    "vectorizer = CountVectorizer(tokenizer=my_tokenizer)\n",
    "\n",
    "X_train = vectorizer.fit_transform(train['all_text'])\n",
    "X_test = vectorizer.transform(test['all_text'])\n",
    "\n",
    "log_reg = LogisticRegression()\n",
    "log_reg.fit(X_train, Y_train)\n",
    "\n",
    "y_train_pred = log_reg.predict(X_train)\n",
    "y_test_pred = log_reg.predict(X_test)\n",
    "\n",
    "print(f1_score(Y_train, y_train_pred))\n",
    "print(f1_score(Y_test, y_test_pred))"
   ]
  },
  {
   "cell_type": "markdown",
   "metadata": {},
   "source": [
    "## Задание 9 (1 балл)\n",
    "\n",
    "1. Повторите 7 задание, но с tf-idf векторизатором. Как изменилось качество?\n",
    "2. Мы можем еще сильнее уменьшить размер нашей матрицы, если отбросим значения df близкие к единице. Скорее всего такие слова не несут много информации о категории, так как встречаются достаточно часто. Ограничьте максимальный df в параметрах TfIdfVectorizer, поставьте верхнюю границу равную 0.9. Как изменился размер матрицы, как изменилось качество?\n",
    "3. Также мы можем уменьшить размер матрицы, удаляя слова со слишком маленьким df. Удалось ли добиться улучшения качества? "
   ]
  },
  {
   "cell_type": "code",
   "execution_count": 30,
   "metadata": {},
   "outputs": [],
   "source": [
    "Y_train = train['target']\n",
    "Y_test = test['target']"
   ]
  },
  {
   "cell_type": "code",
   "execution_count": 31,
   "metadata": {},
   "outputs": [
    {
     "name": "stdout",
     "output_type": "stream",
     "text": [
      "0.865375531412376\n",
      "0.7406199021207178\n"
     ]
    }
   ],
   "source": [
    "from sklearn.feature_extraction.text import TfidfVectorizer\n",
    "vectorizer = TfidfVectorizer()\n",
    "\n",
    "X_train = vectorizer.fit_transform(train['all_text'])\n",
    "X_test = vectorizer.transform(test['all_text'])\n",
    "\n",
    "log_reg = LogisticRegression()\n",
    "log_reg.fit(X_train, Y_train)\n",
    "\n",
    "y_train_pred = log_reg.predict(X_train)\n",
    "y_test_pred = log_reg.predict(X_test)\n",
    "\n",
    "print(f1_score(Y_train, y_train_pred))\n",
    "print(f1_score(Y_test, y_test_pred))"
   ]
  },
  {
   "cell_type": "code",
   "execution_count": 32,
   "metadata": {},
   "outputs": [
    {
     "data": {
      "text/plain": [
       "(5329, 22944)"
      ]
     },
     "execution_count": 32,
     "metadata": {},
     "output_type": "execute_result"
    }
   ],
   "source": [
    "X_train.shape"
   ]
  },
  {
   "cell_type": "markdown",
   "metadata": {},
   "source": [
    "Упало значительно качество на трейне (это скорее хорошо, модель не переобучилась), на тесте совсем немного улучшилось."
   ]
  },
  {
   "cell_type": "code",
   "execution_count": 33,
   "metadata": {},
   "outputs": [
    {
     "name": "stdout",
     "output_type": "stream",
     "text": [
      "0.865375531412376\n",
      "0.7406199021207178\n"
     ]
    }
   ],
   "source": [
    "vectorizer = TfidfVectorizer(max_df=0.9)\n",
    "\n",
    "X_train = vectorizer.fit_transform(train['all_text'])\n",
    "X_test = vectorizer.transform(test['all_text'])\n",
    "\n",
    "log_reg = LogisticRegression()\n",
    "log_reg.fit(X_train, Y_train)\n",
    "\n",
    "y_train_pred = log_reg.predict(X_train)\n",
    "y_test_pred = log_reg.predict(X_test)\n",
    "\n",
    "print(f1_score(Y_train, y_train_pred))\n",
    "print(f1_score(Y_test, y_test_pred))"
   ]
  },
  {
   "cell_type": "markdown",
   "metadata": {},
   "source": [
    "В выборке нет слов, которые имеюют показатель df более чем 0.9, поэтому наши значения метрики f1 не изменились при введении ограничении на max_df=0.9"
   ]
  },
  {
   "cell_type": "code",
   "execution_count": 34,
   "metadata": {},
   "outputs": [
    {
     "data": {
      "text/plain": [
       "(5329, 22944)"
      ]
     },
     "execution_count": 34,
     "metadata": {},
     "output_type": "execute_result"
    }
   ],
   "source": [
    "X_train.shape"
   ]
  },
  {
   "cell_type": "code",
   "execution_count": 35,
   "metadata": {},
   "outputs": [
    {
     "name": "stdout",
     "output_type": "stream",
     "text": [
      "0.8138124125058329\n",
      "0.7436619718309858\n"
     ]
    }
   ],
   "source": [
    "vectorizer = TfidfVectorizer(min_df=0.001)\n",
    "\n",
    "X_train = vectorizer.fit_transform(train['all_text'])\n",
    "X_test = vectorizer.transform(test['all_text'])\n",
    "\n",
    "log_reg = LogisticRegression()\n",
    "log_reg.fit(X_train, Y_train)\n",
    "\n",
    "y_train_pred = log_reg.predict(X_train)\n",
    "y_test_pred = log_reg.predict(X_test)\n",
    "\n",
    "print(f1_score(Y_train, y_train_pred))\n",
    "print(f1_score(Y_test, y_test_pred))"
   ]
  },
  {
   "cell_type": "code",
   "execution_count": 36,
   "metadata": {},
   "outputs": [
    {
     "data": {
      "text/plain": [
       "(5329, 1867)"
      ]
     },
     "execution_count": 36,
     "metadata": {},
     "output_type": "execute_result"
    }
   ],
   "source": [
    "X_train.shape"
   ]
  },
  {
   "cell_type": "markdown",
   "metadata": {},
   "source": [
    "На 3 сотых выросло качество на тесте за счет отбрасывания совсем неинформативных слов благодаря параметру min_df=0.001. При этом качество на трейне упало значительнее.\n",
    "\n",
    "Зато значительно сократился размер матрицы, вместо 22944 слов на 5329 твитов мы получили всего 1867 слов. Значит, более 20000 слов в твитах встречаются крайне редко и не несут практической пользы, мы их удалили."
   ]
  },
  {
   "cell_type": "markdown",
   "metadata": {},
   "source": [
    "## Задание 10 (1 балл)\n",
    "\n",
    "Еще один популяпный трюк, который позволит уменьшить количество признаков называется hashing trick. Его суть в том, то мы случайно группируем признаки ииии  ..... складываем их! А потом удаляем исходные признаки. В итоге все наши признаки это просто суммы исходных. Звучит странно, но это отлично работает. Давайте проверим этот трюк в нашем сеттинге.\n",
    "Также при таком подходе вам не нужно хранить словарь token->index, что тоже иногда полезно.\n",
    "\n",
    "1. Повторите задание 7 с HashingVectorizer, укажите количество фичей равное 5000.\n",
    "2. Какой из подходов показал самый высокий результат?"
   ]
  },
  {
   "cell_type": "code",
   "execution_count": 37,
   "metadata": {},
   "outputs": [],
   "source": [
    "from sklearn.feature_extraction.text import HashingVectorizer"
   ]
  },
  {
   "cell_type": "code",
   "execution_count": 38,
   "metadata": {},
   "outputs": [
    {
     "name": "stdout",
     "output_type": "stream",
     "text": [
      "0.7907194750410124\n",
      "0.7071388420460933\n"
     ]
    }
   ],
   "source": [
    "vectorizer = HashingVectorizer(n_features=5000)\n",
    "\n",
    "X_train = vectorizer.fit_transform(train['all_text'])\n",
    "X_test = vectorizer.transform(test['all_text'])\n",
    "\n",
    "log_reg = LogisticRegression()\n",
    "log_reg.fit(X_train, Y_train)\n",
    "\n",
    "y_train_pred = log_reg.predict(X_train)\n",
    "y_test_pred = log_reg.predict(X_test)\n",
    "\n",
    "print(f1_score(Y_train, y_train_pred))\n",
    "print(f1_score(Y_test, y_test_pred))"
   ]
  },
  {
   "cell_type": "markdown",
   "metadata": {},
   "source": [
    "Самый высокий результат показал CountVectorizer с кастомным токенайзером. "
   ]
  },
  {
   "cell_type": "markdown",
   "metadata": {},
   "source": [
    "## Задание 11 (1 балл)\n",
    "\n",
    "В этом задании нужно добиться f1 меры хотя в 0.75 на тестовых данных."
   ]
  },
  {
   "cell_type": "code",
   "execution_count": 39,
   "metadata": {},
   "outputs": [
    {
     "name": "stdout",
     "output_type": "stream",
     "text": [
      "0.8450837066729546\n",
      "0.7561114269471291\n"
     ]
    }
   ],
   "source": [
    "vectorizer = TfidfVectorizer(max_df=0.4, min_df=0.0002)\n",
    "\n",
    "X_train = vectorizer.fit_transform(train['all_text'])\n",
    "X_test = vectorizer.transform(test['all_text'])\n",
    "\n",
    "log_reg = LogisticRegression()\n",
    "log_reg.fit(X_train, Y_train)\n",
    "\n",
    "y_train_pred = log_reg.predict(X_train)\n",
    "y_test_pred = log_reg.predict(X_test)\n",
    "\n",
    "print(f1_score(Y_train, y_train_pred))\n",
    "print(f1_score(Y_test, y_test_pred))"
   ]
  }
 ],
 "metadata": {
  "kernelspec": {
   "display_name": "Python 3 (ipykernel)",
   "language": "python",
   "name": "python3"
  },
  "language_info": {
   "codemirror_mode": {
    "name": "ipython",
    "version": 3
   },
   "file_extension": ".py",
   "mimetype": "text/x-python",
   "name": "python",
   "nbconvert_exporter": "python",
   "pygments_lexer": "ipython3",
   "version": "3.8.10"
  }
 },
 "nbformat": 4,
 "nbformat_minor": 2
}
